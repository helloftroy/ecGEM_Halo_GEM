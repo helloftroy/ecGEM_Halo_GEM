{
 "cells": [
  {
   "cell_type": "code",
   "execution_count": 1,
   "metadata": {},
   "outputs": [],
   "source": [
    "import pandas as pd\n",
    "import numpy as np\n",
    "from matplotlib import pyplot as plt"
   ]
  },
  {
   "cell_type": "code",
   "execution_count": 2,
   "metadata": {},
   "outputs": [],
   "source": [
    "from IPython.display import display\n",
    "import cobra\n",
    "from cobra.io import read_sbml_model, write_sbml_model, save_json_model, load_json_model"
   ]
  },
  {
   "cell_type": "code",
   "execution_count": null,
   "metadata": {},
   "outputs": [],
   "source": [
    "model = read_sbml_model('/Users/hellpark/Desktop/Bioinformatics September 2021/model_objects/Chalmers_Models/Chalmers_halov2.sbml')"
   ]
  },
  {
   "cell_type": "markdown",
   "metadata": {},
   "source": [
    "# Measure the typical amount of glucose and oxygen consumed by the model"
   ]
  },
  {
   "cell_type": "markdown",
   "metadata": {},
   "source": [
    "- Calculate glucose and ammonium uptake rate, then use model to calculate 1) growth rate 2) sugar consumption 3) oxygen consumption using sugar, nitrogen, oxygen supply at this time. \n",
    "\n",
    "- Quantity, calculated to get Vbiomass(t), V_PHA(t), VBioGlu and VBioOxy"
   ]
  },
  {
   "cell_type": "code",
   "execution_count": 3,
   "metadata": {},
   "outputs": [],
   "source": [
    "def NH4GluOxytoBiomass(model, Vo2, MAX_glucose,MIN_glucose,MAX_nh4,MIN_nh4,mt_1,a,b):\n",
    "    dummy = vo2/mt_1\n",
    "    if (dummy) >= a:\n",
    "        kglucose = MAX_glucose\n",
    "        knh4 = MAX_nh4\n",
    "        growth = 1\n",
    "    elif (dummy) > b and (dummy) < a:\n",
    "        kglucose = MAX_glucose - (-MIN_glucose+MAX_glucose)/(b-a)*(dummy-a)\n",
    "        knh4 = MAX_nh4 - (-MIN_nh4+MAX_nh4)/(b-a)*(dummy-a)\n",
    "        growth = 0\n",
    "    elif (dummy) <= b:\n",
    "        kglucose = MIN_glucose\n",
    "        knh4 = MIN_nh4\n",
    "        growth = 0\n",
    "\n",
    "#after the determination of kGlucose and kAmonuim, \n",
    "#calculate the uptake rate of glucose and nitrogen\n",
    "   \n",
    "    Vglucose = kglucose*mt_1\n",
    "    Vnh4 = knh4*mt_1\n",
    "\n",
    "#Input parameters VGlucose(t), Vammonium(t) and VO2, metabolic network model, and m(t-1) \n",
    "#To synthesize biomass, it is necessary to calculate the amount of glucose\n",
    "#consumed to maintain biomass without splitting.   \n",
    "    \n",
    "    set_bound(model, 'Exchange_Glucopyranose', ub = Vglucose)\n",
    "    set_bound(model, 'Exchange_UREA', ub = Vnh4)\n",
    " #   set_bound(model, 'Exchange_OXYGEN-MOLECULE', ub = Vo2)\n",
    "    s1 = model.optimize()\n",
    "    Vbiomass_t = s1.objective_value\n",
    "    VBioGlu = s1.get_primal_by_id('Exchange_Glucopyranose')\n",
    "    VBioOxy = s1.get_primal_by_id('Exchange_OXYGEN-MOLECULE')\n",
    "    \n",
    " #   print('model',f'{Vbiomass_t:.2f}','glucose:',f'{VBioGlu:.2f}','o2: ',f'{VBioOxy:.1f}')\n",
    "    return Vbiomass_t, VBioGlu, VBioOxy, growth\n"
   ]
  },
  {
   "cell_type": "markdown",
   "metadata": {},
   "source": [
    "### Use the remaining glucose and oxygen to bring into the metabolic network model to calculate the synthesis rate of PHA:\n",
    "- Write the matlab function GluoxytoBiomass\n",
    "- Input the parameters VGlucose(t) − VBioGlu, VO2 − VBioOxy and the metabolic network model, and calculate V-PHA(t).\n",
    "- Finally, calculate the mass of biomass and PHA at this moment"
   ]
  },
  {
   "cell_type": "code",
   "execution_count": 6,
   "metadata": {},
   "outputs": [],
   "source": [
    "def GluoxytoBiomass(model, glucose, oxygen, Vbiomass_t, mt_1, mpha_1, growth):\n",
    "#calculate V-PHA(t)\n",
    "    \n",
    "    set_bound(model, 'Exchange_Glucopyranose', ub = glucose)\n",
    "    set_bound(model, 'Exchange_OXYGEN-MOLECULE',ub = oxygen)\n",
    "    \n",
    "    VPHA_t, phag, phao = test_PHA_production(model)\n",
    "    if VPHA_t is None or growth is 1:\n",
    "        VPHA_t = .000001\n",
    "    if Vbiomass_t is None:\n",
    "        Vbiomass_t = .000001\n",
    "    \n",
    "#Finally, calculate the mass of biomass and PHA at this moment    \n",
    "    mt = mt_1 + Vbiomass_t*0.9987244947\n",
    "    mphat = mpha_1 + VPHA_t*0.086\n",
    "    \n",
    "    return mt, mphat, phag, phao\n"
   ]
  },
  {
   "cell_type": "markdown",
   "metadata": {},
   "source": [
    "# Useful functions"
   ]
  },
  {
   "cell_type": "code",
   "execution_count": null,
   "metadata": {},
   "outputs": [],
   "source": [
    "def set_yeast_extraction(model,ub=1000,lb=-1000):\n",
    "    # given the evidence that TD01 strain can growth wihout supplyment of amino acids, \n",
    "    # the strain should be able to produce 20 amino acids by itself.\n",
    "    # Block the uptake of 20 amino acids\n",
    "    amino_acids = ['CYS_c','L-ASPARTATE_c','GLT_c','PHE_c','GLY_c',\n",
    "                  'HIS_c','ILE_c','LYS_c','AMMONIA','LEU_c','MET_c','ASN_c',\n",
    "                  'PRO_c','GLN_c','ARG_c','SER_c','THR_c','VAL_c',\n",
    "                  'TRP_c','L-ALPHA-ALANINE_c','TYR_c','L-LACTATE','CPD-15990', 'ADENINE']\n",
    "    for met_id in amino_acids:\n",
    "        exg_rxn = model.reactions.get_by_id('Exchange_'+met_id.replace('_c',''))\n",
    "        exg_rxn.upper_bound = ub\n",
    "        exg_rxn.lower_bound = lb\n",
    "        \n",
    "def set_bound(model,rxn_id,lb=None,ub=None,eq=None):\n",
    "    rxn = model.reactions.get_by_id(rxn_id)\n",
    "    if lb is not None: rxn.lower_bound = lb\n",
    "    if ub is not None: rxn.upper_bound = ub\n",
    "    if eq is not None: \n",
    "        rxn.lower_bound = eq\n",
    "        rxn.upper_bound = eq\n",
    "\n",
    "def test_PHA_production(model):\n",
    "#    set_yeast_extraction(model,ub=1,lb=0)\n",
    "    pha_sink = cobra.Reaction('pha_sink')\n",
    "    pha_sink.add_metabolites({model.metabolites.get_by_id('PHA_c'):-1})\n",
    "    \n",
    "    with model:\n",
    "        model.add_reactions([pha_sink]) \n",
    "        model.objective = 'pha_sink'\n",
    "        model.objective_direction = 'max'\n",
    "        s1 = model.optimize()\n",
    "        VphaGlu = s1.get_primal_by_id('Exchange_Glucopyranose')\n",
    "        VphaOxy = s1.get_primal_by_id('Exchange_OXYGEN-MOLECULE')\n",
    "\n",
    "    return s1.objective_value, VphaGlu, VphaOxy"
   ]
  },
  {
   "cell_type": "markdown",
   "metadata": {},
   "source": [
    "# Main model"
   ]
  },
  {
   "cell_type": "code",
   "execution_count": 728,
   "metadata": {},
   "outputs": [],
   "source": [
    "#condition set 1\n",
    "mt_1 = 0.02\n",
    "mpha_1 = 0.0\n",
    "vo2 = 60.0\n",
    "MAX_glucose = 10.0\n",
    "MIN_glucose = 1.70\n",
    "MAX_nh4 = 6.0\n",
    "MIN_nh4 = 0.0\n",
    "a = 10.0\n",
    "b = 2.0\n",
    "NGAM = 6.8\n",
    "GAM = 53.95"
   ]
  },
  {
   "cell_type": "code",
   "execution_count": 752,
   "metadata": {},
   "outputs": [
    {
     "data": {
      "text/html": [
       "\n",
       "        <table>\n",
       "            <tr>\n",
       "                <td><strong>Name</strong></td>\n",
       "                <td>model_v1</td>\n",
       "            </tr><tr>\n",
       "                <td><strong>Memory address</strong></td>\n",
       "                <td>0x07f883110b470</td>\n",
       "            </tr><tr>\n",
       "                <td><strong>Number of metabolites</strong></td>\n",
       "                <td>2339</td>\n",
       "            </tr><tr>\n",
       "                <td><strong>Number of reactions</strong></td>\n",
       "                <td>2271</td>\n",
       "            </tr><tr>\n",
       "                <td><strong>Number of groups</strong></td>\n",
       "                <td>0</td>\n",
       "            </tr><tr>\n",
       "                <td><strong>Objective expression</strong></td>\n",
       "                <td>1.0*Biomass_v1 - 1.0*Biomass_v1_reverse_afb77</td>\n",
       "            </tr><tr>\n",
       "                <td><strong>Compartments</strong></td>\n",
       "                <td>c, p, e</td>\n",
       "            </tr>\n",
       "          </table>"
      ],
      "text/plain": [
       "<Model model_v1 at 0x7f883110b470>"
      ]
     },
     "execution_count": 752,
     "metadata": {},
     "output_type": "execute_result"
    }
   ],
   "source": [
    "model"
   ]
  },
  {
   "cell_type": "code",
   "execution_count": 712,
   "metadata": {},
   "outputs": [],
   "source": [
    "model.reactions.NGAM.lower_bound = 6.8"
   ]
  },
  {
   "cell_type": "code",
   "execution_count": 636,
   "metadata": {},
   "outputs": [],
   "source": [
    "df = pd.read_csv('/Users/hellpark/Desktop/Bioinformatics/model_objects/exp1.csv')\n",
    "drycellmass = np.array(df['True cell mass']).astype(np.double)\n",
    "phb = np.array(df['P3HB g/L']).astype(np.double)\n",
    "t = np.array(df['time']).astype(np.double)"
   ]
  },
  {
   "cell_type": "code",
   "execution_count": 729,
   "metadata": {},
   "outputs": [
    {
     "name": "stderr",
     "output_type": "stream",
     "text": [
      "/Users/hellpark/anaconda3/lib/python3.7/site-packages/cobra/util/solver.py:508: UserWarning: Solver status is 'infeasible'.\n",
      "  warn(f\"Solver status is '{status}'.\", UserWarning)\n"
     ]
    }
   ],
   "source": [
    "rgs = []\n",
    "rgs2 = []\n",
    "rgs3 = []\n",
    "rgs4 = []\n",
    "rgs5 = []\n",
    "rgs6 = []\n",
    "glcs = np.arange(0,50,1.0)\n",
    "\n",
    "for glc in glcs:\n",
    "    Vbiomass_t, VBioGlu, VBioOxy, growth = NH4GluOxytoBiomass(model, vo2, MAX_glucose,\n",
    "                                                      MIN_glucose,MAX_nh4,\n",
    "                                                      MIN_nh4,mt_1,a,b)\n",
    "    \n",
    "    #set bound back to start for next loop\n",
    "    set_bound(model, 'Exchange_UREA', ub = MAX_nh4)\n",
    "\n",
    "    mt, mpha, VphaGlu, VphaOxy = GluoxytoBiomass(model,MAX_glucose-VBioGlu,vo2-VBioOxy,\n",
    "                               Vbiomass_t,mt_1,mpha_1, growth)\n",
    "    set_bound(model, 'Exchange_OXYGEN-MOLECULE', ub = 1000)\n",
    "    \n",
    "    rgs.append(mt)\n",
    "    rgs2.append(mpha)\n",
    "    rgs3.append(VBioGlu)\n",
    "    rgs4.append(VBioOxy)\n",
    "    rgs5.append(VphaGlu)\n",
    "    rgs6.append(VphaOxy)\n",
    "    mt_1 = mt\n",
    "    mpha_1 = mpha"
   ]
  },
  {
   "cell_type": "code",
   "execution_count": 731,
   "metadata": {},
   "outputs": [
    {
     "name": "stderr",
     "output_type": "stream",
     "text": [
      "/Users/hellpark/anaconda3/lib/python3.7/site-packages/ipykernel_launcher.py:16: UserWarning: You have mixed positional and keyword arguments, some input may be discarded.\n",
      "  app.launch_new_instance()\n"
     ]
    },
    {
     "data": {
      "image/png": "[encoded data removed]",
      "text/plain": [
       "<Figure size 288x216 with 1 Axes>"
      ]
     },
     "metadata": {
      "needs_background": "light"
     },
     "output_type": "display_data"
    }
   ],
   "source": [
    "fig, ax1 = plt.subplots(figsize=(4,3))\n",
    "rgs = np.array(rgs)\n",
    "ax1.plot(glcs, rgs, color='royalblue',linestyle='solid', linewidth=2.5)\n",
    "ax1.plot(glcs, rgs2, color='darkorange', linestyle='solid',linewidth=2.5)\n",
    "ax1.plot(t, drycellmass, color='blue', linestyle='dashed',linewidth=2.5)\n",
    "ax1.plot(t, phb, color='red', linestyle='dashed',linewidth=2.5)\n",
    "\n",
    "\n",
    "ax1.set_ylabel('Dry Weight(g*L$^{-1}$)', size=12)\n",
    "ax1.set_xlabel('Time (h)',size=12)\n",
    "plt.rcParams[\"font.family\"] = \"arial\"\n",
    "#ax2.set_ylim([0,10])\n",
    "fig.legend([rgs, rgs2], labels=['Biomass-model','PHA-model','Biomass-exp',\n",
    "                                'PHA-exp'],bbox_to_anchor=(0.6, .92))\n",
    "\n",
    "fig.tight_layout()\n",
    "plt.savefig(\"/Users/hellpark/Desktop/Bioinformatics/model_objects/ferment_2.pdf\")\n",
    "plt.show()"
   ]
  }
 ],
 "metadata": {
  "kernelspec": {
   "display_name": "Python 3 (ipykernel)",
   "language": "python",
   "name": "python3"
  },
  "language_info": {
   "codemirror_mode": {
    "name": "ipython",
    "version": 3
   },
   "file_extension": ".py",
   "mimetype": "text/x-python",
   "name": "python",
   "nbconvert_exporter": "python",
   "pygments_lexer": "ipython3",
   "version": "3.7.3"
  }
 },
 "nbformat": 4,
 "nbformat_minor": 2
}
